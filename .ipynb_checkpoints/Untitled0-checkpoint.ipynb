{
 "metadata": {
  "name": "",
  "signature": "sha256:4d80eac407f9a62cab611c7e765708470b0f2095c9fa7d42dbc585024d17bd55"
 },
 "nbformat": 3,
 "nbformat_minor": 0,
 "worksheets": []
}