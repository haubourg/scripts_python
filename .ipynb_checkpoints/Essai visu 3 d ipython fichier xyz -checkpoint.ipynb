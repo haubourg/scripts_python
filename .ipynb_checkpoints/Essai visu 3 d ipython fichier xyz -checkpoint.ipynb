{
 "cells": [
  {
   "cell_type": "markdown",
   "metadata": {},
   "source": [
    "Mon titre"
   ]
  },
  {
   "cell_type": "code",
   "execution_count": 1,
   "metadata": {
    "collapsed": true
   },
   "outputs": [],
   "source": [
    "import numpy as np\n",
    "import pandas as pd\n",
    "import matplotlib.pyplot as plt\n",
    "import psycopg2\n",
    "#import sys\n",
    "#import pprint\n",
    "#import pylab\n",
    "from mpl_toolkits.mplot3d import Axes3D\n",
    "#import random"
   ]
  },
  {
   "cell_type": "code",
   "execution_count": 2,
   "metadata": {
    "collapsed": false
   },
   "outputs": [
    {
     "name": "stderr",
     "output_type": "stream",
     "text": [
      "C:\\OSGEO4~1\\apps\\Python27\\lib\\site-packages\\requests\\packages\\urllib3\\util\\ssl_.py:318: SNIMissingWarning: An HTTPS request has been made, but the SNI (Subject Name Indication) extension to TLS is not available on this platform. This may cause the server to present an incorrect TLS certificate, which can cause validation failures. You can upgrade to a newer version of Python to solve this. For more information, see https://urllib3.readthedocs.org/en/latest/security.html#snimissingwarning.\n",
      "  SNIMissingWarning\n",
      "C:\\OSGEO4~1\\apps\\Python27\\lib\\site-packages\\requests\\packages\\urllib3\\util\\ssl_.py:122: InsecurePlatformWarning: A true SSLContext object is not available. This prevents urllib3 from configuring SSL appropriately and may cause certain SSL connections to fail. You can upgrade to a newer version of Python to solve this. For more information, see https://urllib3.readthedocs.org/en/latest/security.html#insecureplatformwarning.\n",
      "  InsecurePlatformWarning\n"
     ]
    },
    {
     "data": {
      "text/html": [
       "<script>requirejs.config({paths: { 'plotly': ['https://cdn.plot.ly/plotly-latest.min']},});if(!window.Plotly) {{require(['plotly'],function(plotly) {window.Plotly=plotly;});}}</script>"
      ],
      "text/plain": [
       "<IPython.core.display.HTML object>"
      ]
     },
     "metadata": {},
     "output_type": "display_data"
    }
   ],
   "source": [
    "from plotly import __version__\n",
    "from plotly.offline import download_plotlyjs, init_notebook_mode, plot, iplot\n",
    "init_notebook_mode(connected=True) # run at the start of every ipython notebook to use plotly.offline\n",
    "                     # this injects the plotly.js source files into the notebook"
   ]
  },
  {
   "cell_type": "code",
   "execution_count": 3,
   "metadata": {
    "collapsed": true
   },
   "outputs": [],
   "source": [
    "conn_string = \"host='pgslave' port=5433 dbname='refgeotest' user='pgadmin' password='pgadmin'\""
   ]
  },
  {
   "cell_type": "code",
   "execution_count": 4,
   "metadata": {
    "collapsed": false
   },
   "outputs": [
    {
     "name": "stdout",
     "output_type": "stream",
     "text": [
      "Connected!\n",
      "\n"
     ]
    }
   ],
   "source": [
    "conn = psycopg2.connect(conn_string)\n",
    "cursor = conn.cursor()\n",
    "print \"Connected!\\n\""
   ]
  },
  {
   "cell_type": "code",
   "execution_count": 5,
   "metadata": {
    "collapsed": true
   },
   "outputs": [],
   "source": [
    "id_releve  = 'L24_ECOGEA_20140724'"
   ]
  },
  {
   "cell_type": "code",
   "execution_count": 6,
   "metadata": {
    "collapsed": true
   },
   "outputs": [],
   "source": [
    "z_factor = 1"
   ]
  },
  {
   "cell_type": "code",
   "execution_count": 7,
   "metadata": {
    "collapsed": true
   },
   "outputs": [],
   "source": [
    "point_size = 1"
   ]
  },
  {
   "cell_type": "code",
   "execution_count": null,
   "metadata": {
    "collapsed": true
   },
   "outputs": [],
   "source": [
    "max_points = 120000"
   ]
  },
  {
   "cell_type": "code",
   "execution_count": 8,
   "metadata": {
    "collapsed": false
   },
   "outputs": [],
   "source": [
    "sql = 'select distinct id_releve, st_x(geoml93) x, st_y(geoml93) as y, (-profondeur::real*'+ str(z_factor) +'::real)::real as p  from bathy_profondeurs where  id_releve = \\''+ id_releve +'\\' limit '+ str(max_points) +' ;'"
   ]
  },
  {
   "cell_type": "code",
   "execution_count": 9,
   "metadata": {
    "collapsed": false
   },
   "outputs": [
    {
     "data": {
      "text/plain": [
       "\"select distinct id_releve, st_x(geoml93) x, st_y(geoml93) as y, (-profondeur::real*1::real)::real as p  from bathy_profondeurs where  id_releve = 'L24_ECOGEA_20140724' limit 80000 ;\""
      ]
     },
     "execution_count": 9,
     "metadata": {},
     "output_type": "execute_result"
    }
   ],
   "source": [
    "sql"
   ]
  },
  {
   "cell_type": "code",
   "execution_count": 10,
   "metadata": {
    "collapsed": false
   },
   "outputs": [],
   "source": [
    "#old way :\n",
    "#cursor.execute(sql)\n",
    "#rows = cursor.fetchall()\n",
    "#df = pd.DataFrame( [[ij for ij in i] for i in rows] )\n",
    "#df.rename(columns={0: 'id_releve', 1: 'x', 2: 'y', 3: 'prof'}, inplace=True);\n"
   ]
  },
  {
   "cell_type": "code",
   "execution_count": 11,
   "metadata": {
    "collapsed": false
   },
   "outputs": [],
   "source": [
    "df = pd.read_sql(sql, conn)"
   ]
  },
  {
   "cell_type": "code",
   "execution_count": 12,
   "metadata": {
    "collapsed": false
   },
   "outputs": [
    {
     "data": {
      "text/html": [
       "<div>\n",
       "<table border=\"1\" class=\"dataframe\">\n",
       "  <thead>\n",
       "    <tr style=\"text-align: right;\">\n",
       "      <th></th>\n",
       "      <th>id_releve</th>\n",
       "      <th>x</th>\n",
       "      <th>y</th>\n",
       "      <th>p</th>\n",
       "    </tr>\n",
       "  </thead>\n",
       "  <tbody>\n",
       "    <tr>\n",
       "      <th>0</th>\n",
       "      <td>L24_ECOGEA_20140724</td>\n",
       "      <td>465190.33</td>\n",
       "      <td>6195923.14</td>\n",
       "      <td>-75.96</td>\n",
       "    </tr>\n",
       "    <tr>\n",
       "      <th>1</th>\n",
       "      <td>L24_ECOGEA_20140724</td>\n",
       "      <td>465792.39</td>\n",
       "      <td>6195665.11</td>\n",
       "      <td>-16.26</td>\n",
       "    </tr>\n",
       "    <tr>\n",
       "      <th>2</th>\n",
       "      <td>L24_ECOGEA_20140724</td>\n",
       "      <td>465662.34</td>\n",
       "      <td>6195812.07</td>\n",
       "      <td>-62.39</td>\n",
       "    </tr>\n",
       "    <tr>\n",
       "      <th>3</th>\n",
       "      <td>L24_ECOGEA_20140724</td>\n",
       "      <td>465198.91</td>\n",
       "      <td>6195837.46</td>\n",
       "      <td>-25.89</td>\n",
       "    </tr>\n",
       "    <tr>\n",
       "      <th>4</th>\n",
       "      <td>L24_ECOGEA_20140724</td>\n",
       "      <td>464995.48</td>\n",
       "      <td>6196187.57</td>\n",
       "      <td>-105.38</td>\n",
       "    </tr>\n",
       "  </tbody>\n",
       "</table>\n",
       "</div>"
      ],
      "text/plain": [
       "             id_releve          x           y       p\n",
       "0  L24_ECOGEA_20140724  465190.33  6195923.14  -75.96\n",
       "1  L24_ECOGEA_20140724  465792.39  6195665.11  -16.26\n",
       "2  L24_ECOGEA_20140724  465662.34  6195812.07  -62.39\n",
       "3  L24_ECOGEA_20140724  465198.91  6195837.46  -25.89\n",
       "4  L24_ECOGEA_20140724  464995.48  6196187.57 -105.38"
      ]
     },
     "execution_count": 12,
     "metadata": {},
     "output_type": "execute_result"
    }
   ],
   "source": [
    "df.head()"
   ]
  },
  {
   "cell_type": "code",
   "execution_count": 13,
   "metadata": {
    "collapsed": false
   },
   "outputs": [],
   "source": [
    "n_points = df['p'].count()"
   ]
  },
  {
   "cell_type": "code",
   "execution_count": 14,
   "metadata": {
    "collapsed": false
   },
   "outputs": [
    {
     "data": {
      "text/plain": [
       "80000"
      ]
     },
     "execution_count": 14,
     "metadata": {},
     "output_type": "execute_result"
    }
   ],
   "source": [
    "n_points"
   ]
  },
  {
   "cell_type": "code",
   "execution_count": 15,
   "metadata": {
    "collapsed": false
   },
   "outputs": [],
   "source": [
    "import plotly.plotly as py\n",
    "from plotly.graph_objs import *\n",
    "py.sign_in('regis.haubourg', 'qyh9ssvz4u')\n"
   ]
  },
  {
   "cell_type": "code",
   "execution_count": 16,
   "metadata": {
    "collapsed": true
   },
   "outputs": [],
   "source": [
    "x=df['x']\n",
    "y=df['y']\n",
    "z=df['p'] * z_factor"
   ]
  },
  {
   "cell_type": "code",
   "execution_count": 17,
   "metadata": {
    "collapsed": false
   },
   "outputs": [
    {
     "name": "stderr",
     "output_type": "stream",
     "text": [
      "C:\\OSGEO4~1\\apps\\Python27\\lib\\site-packages\\plotly\\plotly\\plotly.py:236: UserWarning:\n",
      "\n",
      "Woah there! Look at all those points! Due to browser limitations, the Plotly SVG drawing functions have a hard time graphing more than 500k data points for line charts, or 40k points for other types of charts. Here are some suggestions:\n",
      "(1) Use the `plotly.graph_objs.Scattergl` trace object to generate a WebGl graph.\n",
      "(2) Trying using the image API to return an image instead of a graph URL\n",
      "(3) Use matplotlib\n",
      "(4) See if you can create your visualization with fewer data points\n",
      "\n",
      "If the visualization you're using aggregates points (e.g., box plot, histogram, etc.) you can disregard this warning.\n",
      "\n",
      "C:\\OSGEO4~1\\apps\\Python27\\lib\\site-packages\\requests\\packages\\urllib3\\util\\ssl_.py:122: InsecurePlatformWarning:\n",
      "\n",
      "A true SSLContext object is not available. This prevents urllib3 from configuring SSL appropriately and may cause certain SSL connections to fail. You can upgrade to a newer version of Python to solve this. For more information, see https://urllib3.readthedocs.org/en/latest/security.html#insecureplatformwarning.\n",
      "\n"
     ]
    },
    {
     "name": "stdout",
     "output_type": "stream",
     "text": [
      "The draw time for this plot will be slow for clients without much RAM.\n"
     ]
    },
    {
     "name": "stderr",
     "output_type": "stream",
     "text": [
      "C:\\OSGEO4~1\\apps\\Python27\\lib\\site-packages\\plotly\\plotly\\plotly.py:1443: UserWarning:\n",
      "\n",
      "Estimated Draw Time Slowtoken not in streamObj or len(token) != 10\n",
      "\n"
     ]
    },
    {
     "data": {
      "text/html": [
       "<iframe id=\"igraph\" scrolling=\"no\" style=\"border:none;\" seamless=\"seamless\" src=\"https://plot.ly/~regis.haubourg/85.embed\" height=\"525px\" width=\"100%\"></iframe>"
      ],
      "text/plain": [
       "<plotly.tools.PlotlyDisplay object>"
      ]
     },
     "execution_count": 17,
     "metadata": {},
     "output_type": "execute_result"
    }
   ],
   "source": [
    "\n",
    "\n",
    "trace1 = Scatter3d(\n",
    "     x=x,\n",
    "     y=y,\n",
    "     z=z,\n",
    "     mode='markers',\n",
    "     marker=dict(\n",
    "            size=point_size,\n",
    "            symbol='circle',\n",
    "            color=z,                # set color to an array/list of desired values\n",
    "            colorscale='Jet',   # choose a colorscale\n",
    "            opacity=0.9  ),\n",
    "    stream=dict(maxpoints=1000)\n",
    ")    \n",
    "layout = Layout(        \n",
    "     title = 'Bathymetrie '+ id_releve,\n",
    "     scene=Scene(\n",
    "        xaxis=XAxis(title='x'),\n",
    "        yaxis=YAxis(title='y'),\n",
    "        zaxis=ZAxis(title='z prof'),\n",
    "        aspectmode = \"data\"\n",
    "    )\n",
    ")\n",
    "data = Data([trace1])\n",
    "fig = Figure(data=data, layout=layout)\n",
    "py.iplot(fig, filename='bathymetrie '+ id_releve)"
   ]
  },
  {
   "cell_type": "code",
   "execution_count": 18,
   "metadata": {
    "collapsed": false
   },
   "outputs": [],
   "source": [
    "cursor.close()\n",
    "conn.close()"
   ]
  }
 ],
 "metadata": {
  "kernelspec": {
   "display_name": "Python 2",
   "language": "python",
   "name": "python2"
  },
  "language_info": {
   "codemirror_mode": {
    "name": "ipython",
    "version": 2
   },
   "file_extension": ".py",
   "mimetype": "text/x-python",
   "name": "python",
   "nbconvert_exporter": "python",
   "pygments_lexer": "ipython2",
   "version": "2.7.5"
  }
 },
 "nbformat": 4,
 "nbformat_minor": 0
}
