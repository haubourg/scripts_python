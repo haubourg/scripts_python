{
 "metadata": {
  "name": "",
  "signature": "sha256:fd31985ebcd05503391e42fa323673cc4e7a83844a2c73742fa3d5d09f898ac2"
 },
 "nbformat": 3,
 "nbformat_minor": 0,
 "worksheets": [
  {
   "cells": [
    {
     "cell_type": "markdown",
     "metadata": {},
     "source": [
      "pour m\u00e9moire les notebooks de cette installation sont ici: F:\\Outils\\QGISDEV\\SCRIPTS_PYTHON\n",
      "\n",
      "ce qui est d\u00e9fini par:\n",
      "- fichier C:\\Users\\haubourg\\.ipython\\profile_default\\ipython_notebook_config.py \n",
      "   - ligne 647 c.FileNotebookManager.notebook_dir = u'F:\\Outils\\QGISDEV\\SCRIPTS_PYTHON'\n",
      "   "
     ]
    },
    {
     "cell_type": "heading",
     "level": 1,
     "metadata": {},
     "source": [
      "Essais d'installation et de configuration de DJANGO\n"
     ]
    },
    {
     "cell_type": "raw",
     "metadata": {},
     "source": [
      "Environnement OSGEO4W 64 bits "
     ]
    },
    {
     "cell_type": "markdown",
     "metadata": {},
     "source": [
      "tutos utilis\u00e9s: <br>\n",
      "1 - https://docs.djangoproject.com/fr/1.8/intro/install/ <br>\n",
      "2- https://docs.djangoproject.com/fr/1.8/intro/tutorial01/ \n"
     ]
    },
    {
     "cell_type": "markdown",
     "metadata": {},
     "source": [
      "passer en console Msys, les appels pip ne passent pas .."
     ]
    },
    {
     "cell_type": "code",
     "collapsed": false,
     "input": [
      "pip install Django"
     ],
     "language": "python",
     "metadata": {},
     "outputs": []
    },
    {
     "cell_type": "markdown",
     "metadata": {},
     "source": [
      "<img src=\"files/pipinstall.jpg\">"
     ]
    },
    {
     "cell_type": "code",
     "collapsed": false,
     "input": [
      "import django\n",
      "print(django.get_version())"
     ],
     "language": "python",
     "metadata": {},
     "outputs": [
      {
       "output_type": "stream",
       "stream": "stdout",
       "text": [
        "1.8.2\n"
       ]
      }
     ],
     "prompt_number": 4
    },
    {
     "cell_type": "code",
     "collapsed": false,
     "input": [
      "import sys  \n",
      "print (sys.version)"
     ],
     "language": "python",
     "metadata": {},
     "outputs": [
      {
       "output_type": "stream",
       "stream": "stdout",
       "text": [
        "2.7.5 (default, May 15 2013, 22:44:16) [MSC v.1500 64 bit (AMD64)]\n"
       ]
      }
     ],
     "prompt_number": 9
    },
    {
     "cell_type": "markdown",
     "metadata": {},
     "source": [
      "Initier le projet Django :<br>\n",
      "En ligne de commande hors python, se d\u00e9placer dans le r\u00e9pertoire souhait\u00e9:<br>\n",
      "```\n",
      "cd /f/Outils/Django\n",
      "django-admin startproject site1\n",
      "```"
     ]
    },
    {
     "cell_type": "heading",
     "level": 2,
     "metadata": {},
     "source": [
      "Configuration de la base de donn\u00e9es\u00b6"
     ]
    },
    {
     "cell_type": "markdown",
     "metadata": {},
     "source": [
      " mysite/settings.py <br>\n",
      " changer la base de donn\u00e9e et son type si besoin (voir https://docs.djangoproject.com/fr/1.8/ref/settings/#std:setting-DATABASES)\n",
      " <br>\n"
     ]
    },
    {
     "cell_type": "markdown",
     "metadata": {},
     "source": [
      "<img src=\"files/settings_db2.png\">"
     ]
    },
    {
     "cell_type": "markdown",
     "metadata": {},
     "source": [
      "Cr\u00e9er les tables dans la base de donn\u00e9es: (pour sqlite, cela cr\u00e9e la table au passage)"
     ]
    },
    {
     "cell_type": "markdown",
     "metadata": {},
     "source": [
      "```\n",
      "python manage.py migrate\n",
      "```"
     ]
    },
    {
     "cell_type": "markdown",
     "metadata": {},
     "source": [
      "```\n",
      "haubourg@M20030 /f/Outils/Django/site1\n",
      "$ python manage.py migrate\n",
      "Operations to perform:\n",
      "  Synchronize unmigrated apps: staticfiles, messages\n",
      "  Apply all migrations: admin, contenttypes, auth, sessions\n",
      "Synchronizing apps without migrations:\n",
      "  Creating tables...\n",
      "    Running deferred SQL...\n",
      "  Installing custom SQL...\n",
      "Running migrations:\n",
      "  Rendering model states... DONE\n",
      "  Applying contenttypes.0001_initial... OK\n",
      "  Applying auth.0001_initial... OK\n",
      "  Applying admin.0001_initial... OK\n",
      "  Applying contenttypes.0002_remove_content_type_name... OK\n",
      "  Applying auth.0002_alter_permission_name_max_length... OK\n",
      "  Applying auth.0003_alter_user_email_max_length... OK\n",
      "  Applying auth.0004_alter_user_username_opts... OK\n",
      "  Applying auth.0005_alter_user_last_login_null... OK\n",
      "  Applying auth.0006_require_contenttypes_0002... OK\n",
      "  Applying sessions.0001_initial... OK\n",
      "\n",
      "```\n"
     ]
    },
    {
     "cell_type": "heading",
     "level": 2,
     "metadata": {},
     "source": [
      "Est-ce que \u00e7a marche?\n"
     ]
    },
    {
     "cell_type": "markdown",
     "metadata": {},
     "source": [
      "````\n",
      "python manage.py runserver\n",
      "````"
     ]
    },
    {
     "cell_type": "markdown",
     "metadata": {},
     "source": [
      "````\n",
      "haubourg@M20030 /f/Outils/Django/site1\n",
      "$ python manage.py runserver\n",
      "Performing system checks...\n",
      "\n",
      "System check identified no issues (0 silenced).\n",
      "June 22, 2015 - 14:32:26\n",
      "Django version 1.8.2, using settings 'site1.settings'\n",
      "Starting development server at http://127.0.0.1:8000/\n",
      "Quit the server with CTRL-BREAK.\n",
      "\n",
      "````"
     ]
    },
    {
     "cell_type": "markdown",
     "metadata": {},
     "source": [
      "**Yes!**"
     ]
    },
    {
     "cell_type": "markdown",
     "metadata": {},
     "source": [
      "Attention, c'est un serveur python de d\u00e9veloppement, ne pas utiliser en production, plut\u00f4t utiliser apache"
     ]
    },
    {
     "cell_type": "markdown",
     "metadata": {},
     "source": [
      "http://127.0.0.1:8000"
     ]
    },
    {
     "cell_type": "markdown",
     "metadata": {},
     "source": [
      "<img src=\"files/empty_app.png\">"
     ]
    },
    {
     "cell_type": "heading",
     "level": 2,
     "metadata": {},
     "source": [
      "Ma premi\u00e8re appli:"
     ]
    },
    {
     "cell_type": "markdown",
     "metadata": {},
     "source": [
      "````\n",
      "python manage.py startapp polls\n",
      "````"
     ]
    },
    {
     "cell_type": "markdown",
     "metadata": {},
     "source": [
      "```\n",
      "haubourg@M20030 ~\n",
      "$ cd /f/Outils/Django/site1/\n",
      "\n",
      "haubourg@M20030 /f/Outils/Django/site1\n",
      "$ python manage.py startapp polls\n",
      "\n",
      "haubourg@M20030 /f/Outils/Django/site1\n",
      "$ python manage.py makemigrations polls\n",
      "Migrations for 'polls':\n",
      "  0001_initial.py:\n",
      "    - Create model Choice\n",
      "    - Create model Question\n",
      "    - Add field question to choice\n",
      "\n",
      "```\n",
      "<br>\n",
      "\n",
      "Et voil\u00e0 le script de g\u00e9n\u00e9ration des tables associ\u00e9es \u00e0 l'application Poll, que l'on peut modifier\n",
      "```\n",
      "haubourg@M20030 /f/Outils/Django/site1\n",
      "$ python manage.py sqlmigrate polls 0001\n",
      "BEGIN;\n",
      "CREATE TABLE \"polls_choice\" (\"id\" integer NOT NULL PRIMARY KEY AUTOINCREMENT, \"choice_text\" varchar(200) NOT NULL, \"votes\" integer NOT NULL);\n",
      "CREATE TABLE \"polls_question\" (\"id\" integer NOT NULL PRIMARY KEY AUTOINCREMENT, \"question_text\" varchar(200) NOT NULL, \"pub_date\" datetime NOT NULL);\n",
      "CREATE TABLE \"polls_choice__new\" (\"id\" integer NOT NULL PRIMARY KEY AUTOINCREMENT, \"choice_text\" varchar(200) NOT NULL, \"votes\" integer NOT NULL, \"question_id\" integer NOT NULL REFERENCES \"polls_quest\n",
      "ion\" (\"id\"));\n",
      "INSERT INTO \"polls_choice__new\" (\"choice_text\", \"votes\", \"id\", \"question_id\") SELECT \"choice_text\", \"votes\", \"id\", NULL FROM \"polls_choice\";\n",
      "DROP TABLE \"polls_choice\";\n",
      "ALTER TABLE \"polls_choice__new\" RENAME TO \"polls_choice\";\n",
      "CREATE INDEX \"polls_choice_7aa0f6ee\" ON \"polls_choice\" (\"question_id\");\n",
      "\n",
      "COMMIT;\n",
      "\n",
      "haubourg@M20030 /f/Outils/Django/site1\n",
      "$\n",
      "```\n"
     ]
    },
    {
     "cell_type": "markdown",
     "metadata": {},
     "source": [
      "**La vrai migration :** <br>\n",
      "\n",
      "```python manage.py migrate```"
     ]
    },
    {
     "cell_type": "markdown",
     "metadata": {},
     "source": [
      "```\n",
      "haubourg@M20030 /f/Outils/Django/site1\n",
      "$ python manage.py migrate\n",
      "Operations to perform:\n",
      "  Synchronize unmigrated apps: staticfiles, messages\n",
      "  Apply all migrations: admin, contenttypes, polls, auth, sessions\n",
      "Synchronizing apps without migrations:\n",
      "  Creating tables...\n",
      "    Running deferred SQL...\n",
      "  Installing custom SQL...\n",
      "Running migrations:\n",
      "  Rendering model states... DONE\n",
      "  Applying polls.0001_initial... OK\n",
      "  \n",
      "```\n",
      "\n",
      "  "
     ]
    },
    {
     "cell_type": "code",
     "collapsed": false,
     "input": [],
     "language": "python",
     "metadata": {},
     "outputs": []
    }
   ],
   "metadata": {}
  }
 ]
}