{
 "metadata": {
  "name": "",
  "signature": "sha256:570eef35d8fdb93383cb8d9dcdd61e56666a84ae56ce137322ef3b5abe6e0aed"
 },
 "nbformat": 3,
 "nbformat_minor": 0,
 "worksheets": [
  {
   "cells": [
    {
     "cell_type": "heading",
     "level": 1,
     "metadata": {},
     "source": [
      "G\u00e9n\u00e9ration de netcdf depuis PG... essai"
     ]
    },
    {
     "cell_type": "markdown",
     "metadata": {},
     "source": [
      "sources: \n",
      "    \u00e9criture: http://www.ceda.ac.uk/static/media/uploads/ncas-reading-2015/11_create_netcdf_python.pdf\n",
      "    lecture : http://www.hydro.washington.edu/~jhamman/hydro-logic/blog/2013/10/12/plot-netcdf-data/"
     ]
    },
    {
     "cell_type": "markdown",
     "metadata": {},
     "source": [
      "note: xarray n'a pas \u00e9t\u00e9 utilis\u00e9e, c'est assez complexe sur les notions de dataset vs dataarray"
     ]
    },
    {
     "cell_type": "code",
     "collapsed": false,
     "input": [
      "from netCDF4 import Dataset\n",
      "#close existing dataset to make it reproducible"
     ],
     "language": "python",
     "metadata": {},
     "outputs": [],
     "prompt_number": 206
    },
    {
     "cell_type": "heading",
     "level": 2,
     "metadata": {},
     "source": [
      "Lecture d'un fichier existant"
     ]
    },
    {
     "cell_type": "code",
     "collapsed": false,
     "input": [
      "import numpy as np"
     ],
     "language": "python",
     "metadata": {},
     "outputs": [],
     "prompt_number": 207
    },
    {
     "cell_type": "code",
     "collapsed": false,
     "input": [
      "fh = Dataset('V:/temp_user/netcdf/NETCDF00_3.nc', 'r' , format='NETCDF4_CLASSIC')\n",
      "fh"
     ],
     "language": "python",
     "metadata": {},
     "outputs": [
      {
       "metadata": {},
       "output_type": "pyout",
       "prompt_number": 215,
       "text": [
        "<type 'netCDF4._netCDF4.Dataset'>\n",
        "root group (NETCDF3_CLASSIC data model, file format NETCDF3):\n",
        "    comment: Test drive\n",
        "    Conventions: CF-1.0\n",
        "    history: YYYY/MM/JJ: data generated; YYYY/MM/JJ+1 data transformed  At 16:37:23 on 01/11/2005, CMOR rewrote data to comply with CF standards and IPCC Fourth Assessment requirements\n",
        "    institution: IPSL (Institut Pierre Simon Laplace, Paris, France)\n",
        "    references: Dufresne et al, Journal of Climate, 2015, vol XX, p 136\n",
        "    source: IPSL-CM4_v1 (2003) : atmosphere : LMDZ (IPSL-CM4_IPCC, 96x71x19) ; ocean ORCA2 (ipsl_cm4_v1_8, 2x2L31); sea ice LIM (ipsl_cm4_v\n",
        "    title: IPSL  model output prepared for IPCC Fourth Assessment SRES A2 experiment\n",
        "    contact: Sebastien Denvil, sebastien.denvil@ipsl.jussieu.fr\n",
        "    project_id: IPCC Fourth Assessment\n",
        "    table_id: Table O1 (13 November 2004)\n",
        "    experiment_id: SRES A2 experiment\n",
        "    realization: 1\n",
        "    cmor_version: 0.96\n",
        "    dimensions(sizes): time(24), lat(170), lon(180)\n",
        "    variables(dimensions): float64 \u001b[4mtime\u001b[0m(time), float64 \u001b[4mlat\u001b[0m(lat), float64 \u001b[4mlon\u001b[0m(lon), float32 \u001b[4mtos\u001b[0m(time,lat,lon)\n",
        "    groups: "
       ]
      }
     ],
     "prompt_number": 215
    },
    {
     "cell_type": "code",
     "collapsed": false,
     "input": [
      "for dimname in fh.dimensions.keys():\n",
      " dim = fh.dimensions[dimname]\n",
      " print dimname, len(dim), dim.isunlimited()"
     ],
     "language": "python",
     "metadata": {},
     "outputs": [
      {
       "output_type": "stream",
       "stream": "stdout",
       "text": [
        "time 24 False\n",
        "lat 170 False\n",
        "lon 180 False\n"
       ]
      }
     ],
     "prompt_number": 213
    },
    {
     "cell_type": "code",
     "collapsed": false,
     "input": [
      "for varname in fh.variables.keys():\n",
      "    var = fh.variables[varname]\n",
      "    print varname, var.dtype, var.dimensions, var.shape"
     ],
     "language": "python",
     "metadata": {},
     "outputs": [
      {
       "output_type": "stream",
       "stream": "stdout",
       "text": [
        "time float64 (u'time',) (24,)\n",
        "lat float64 (u'lat',) (170,)\n",
        "lon float64 (u'lon',) (180,)\n",
        "tos float32 (u'time', u'lat', u'lon') (24, 170, 180)\n"
       ]
      }
     ],
     "prompt_number": 216
    },
    {
     "cell_type": "code",
     "collapsed": false,
     "input": [
      "tos = fh.variables['tos']"
     ],
     "language": "python",
     "metadata": {},
     "outputs": [],
     "prompt_number": 220
    },
    {
     "cell_type": "code",
     "collapsed": false,
     "input": [
      "tos"
     ],
     "language": "python",
     "metadata": {},
     "outputs": [
      {
       "metadata": {},
       "output_type": "pyout",
       "prompt_number": 221,
       "text": [
        "<type 'netCDF4._netCDF4.Variable'>\n",
        "float32 tos(time, lat, lon)\n",
        "    cell_methods: time: mean (interval: 30 minutes)\n",
        "    long_name: Sea Surface Temperature\n",
        "    standard_name: sea_surface_temperature\n",
        "    units: K\n",
        "    _FillValue: 1e+20\n",
        "    original_name: sosstsst\n",
        "    original_units: degC\n",
        "    history:  At   16:37:23 on 01/11/2005: CMOR altered the data in the following ways: added 2.73150E+02 to yield output units;  Cyclical dimension was output starting at a different lon;\n",
        "unlimited dimensions: \n",
        "current shape = (24, 170, 180)\n",
        "filling off"
       ]
      }
     ],
     "prompt_number": 221
    },
    {
     "cell_type": "code",
     "collapsed": false,
     "input": [
      "tos[:]"
     ],
     "language": "python",
     "metadata": {},
     "outputs": [
      {
       "metadata": {},
       "output_type": "pyout",
       "prompt_number": 222,
       "text": [
        "masked_array(data =\n",
        " [[[271.4591979980469 271.45916748046875 271.4591369628906 ...,\n",
        "   271.459228515625 271.459228515625 271.4591979980469]\n",
        "  [271.4451904296875 271.44525146484375 271.4453125 ..., 271.445068359375\n",
        "   271.4450988769531 271.44512939453125]\n",
        "  [271.4374694824219 271.4379577636719 271.43841552734375 ...,\n",
        "   271.4361877441406 271.4365539550781 271.4369812011719]\n",
        "  ..., \n",
        "  [-- -- -- ..., -- -- --]\n",
        "  [-- -- -- ..., -- -- --]\n",
        "  [-- -- -- ..., -- -- --]]\n",
        "\n",
        " [[271.4580078125 271.4580078125 271.4580078125 ..., 271.4580383300781\n",
        "   271.4580383300781 271.4580383300781]\n",
        "  [271.44573974609375 271.4457092285156 271.4456787109375 ...,\n",
        "   271.4458312988281 271.44580078125 271.44573974609375]\n",
        "  [271.4344482421875 271.4346008300781 271.434814453125 ...,\n",
        "   271.4345397949219 271.4343566894531 271.434326171875]\n",
        "  ..., \n",
        "  [-- -- -- ..., -- -- --]\n",
        "  [-- -- -- ..., -- -- --]\n",
        "  [-- -- -- ..., -- -- --]]\n",
        "\n",
        " [[271.4431457519531 271.44317626953125 271.4432067871094 ...,\n",
        "   271.44305419921875 271.4430847167969 271.443115234375]\n",
        "  [271.4333190917969 271.4333801269531 271.43341064453125 ...,\n",
        "   271.4333190917969 271.4333190917969 271.4333190917969]\n",
        "  [271.4266357421875 271.42681884765625 271.42706298828125 ...,\n",
        "   271.4267883300781 271.4266052246094 271.4265441894531]\n",
        "  ..., \n",
        "  [-- -- -- ..., -- -- --]\n",
        "  [-- -- -- ..., -- -- --]\n",
        "  [-- -- -- ..., -- -- --]]\n",
        "\n",
        " ..., \n",
        " [[271.4900817871094 271.4900817871094 271.4901123046875 ...,\n",
        "   271.4900207519531 271.49005126953125 271.49005126953125]\n",
        "  [271.48101806640625 271.481201171875 271.4813537597656 ...,\n",
        "   271.4805603027344 271.480712890625 271.4808654785156]\n",
        "  [271.4632873535156 271.4639892578125 271.4646911621094 ...,\n",
        "   271.46185302734375 271.4621276855469 271.46258544921875]\n",
        "  ..., \n",
        "  [-- -- -- ..., -- -- --]\n",
        "  [-- -- -- ..., -- -- --]\n",
        "  [-- -- -- ..., -- -- --]]\n",
        "\n",
        " [[271.47509765625 271.4751281738281 271.4751892089844 ...,\n",
        "   271.4749450683594 271.4750061035156 271.47503662109375]\n",
        "  [271.4672546386719 271.4674072265625 271.4675598144531 ...,\n",
        "   271.4667663574219 271.4669494628906 271.46710205078125]\n",
        "  [271.45416259765625 271.45477294921875 271.4553527832031 ...,\n",
        "   271.4526062011719 271.4530029296875 271.4534912109375]\n",
        "  ..., \n",
        "  [-- -- -- ..., -- -- --]\n",
        "  [-- -- -- ..., -- -- --]\n",
        "  [-- -- -- ..., -- -- --]]\n",
        "\n",
        " [[271.4656066894531 271.46563720703125 271.4656677246094 ...,\n",
        "   271.46551513671875 271.4655456542969 271.465576171875]\n",
        "  [271.46173095703125 271.46185302734375 271.4619445800781 ...,\n",
        "   271.46142578125 271.4615478515625 271.4616394042969]\n",
        "  [271.4460144042969 271.44659423828125 271.4471740722656 ...,\n",
        "   271.44500732421875 271.4451599121094 271.4454650878906]\n",
        "  ..., \n",
        "  [-- -- -- ..., -- -- --]\n",
        "  [-- -- -- ..., -- -- --]\n",
        "  [-- -- -- ..., -- -- --]]],\n",
        "             mask =\n",
        " [[[False False False ..., False False False]\n",
        "  [False False False ..., False False False]\n",
        "  [False False False ..., False False False]\n",
        "  ..., \n",
        "  [ True  True  True ...,  True  True  True]\n",
        "  [ True  True  True ...,  True  True  True]\n",
        "  [ True  True  True ...,  True  True  True]]\n",
        "\n",
        " [[False False False ..., False False False]\n",
        "  [False False False ..., False False False]\n",
        "  [False False False ..., False False False]\n",
        "  ..., \n",
        "  [ True  True  True ...,  True  True  True]\n",
        "  [ True  True  True ...,  True  True  True]\n",
        "  [ True  True  True ...,  True  True  True]]\n",
        "\n",
        " [[False False False ..., False False False]\n",
        "  [False False False ..., False False False]\n",
        "  [False False False ..., False False False]\n",
        "  ..., \n",
        "  [ True  True  True ...,  True  True  True]\n",
        "  [ True  True  True ...,  True  True  True]\n",
        "  [ True  True  True ...,  True  True  True]]\n",
        "\n",
        " ..., \n",
        " [[False False False ..., False False False]\n",
        "  [False False False ..., False False False]\n",
        "  [False False False ..., False False False]\n",
        "  ..., \n",
        "  [ True  True  True ...,  True  True  True]\n",
        "  [ True  True  True ...,  True  True  True]\n",
        "  [ True  True  True ...,  True  True  True]]\n",
        "\n",
        " [[False False False ..., False False False]\n",
        "  [False False False ..., False False False]\n",
        "  [False False False ..., False False False]\n",
        "  ..., \n",
        "  [ True  True  True ...,  True  True  True]\n",
        "  [ True  True  True ...,  True  True  True]\n",
        "  [ True  True  True ...,  True  True  True]]\n",
        "\n",
        " [[False False False ..., False False False]\n",
        "  [False False False ..., False False False]\n",
        "  [False False False ..., False False False]\n",
        "  ..., \n",
        "  [ True  True  True ...,  True  True  True]\n",
        "  [ True  True  True ...,  True  True  True]\n",
        "  [ True  True  True ...,  True  True  True]]],\n",
        "       fill_value = 1e+20)"
       ]
      }
     ],
     "prompt_number": 222
    },
    {
     "cell_type": "code",
     "collapsed": false,
     "input": [],
     "language": "python",
     "metadata": {},
     "outputs": []
    },
    {
     "cell_type": "heading",
     "level": 2,
     "metadata": {},
     "source": [
      "Open a new NetCDF file in \u201cwrite\u201d ('w') mode:\n"
     ]
    },
    {
     "cell_type": "code",
     "collapsed": false,
     "input": [
      "try:\n",
      "    dataset.close()\n",
      "except:\n",
      "    pass\n",
      "\n",
      "dataset = Dataset('V:/temp_user/netcdf/output_essai_from_python.nc', 'w' , format='NETCDF4_CLASSIC')"
     ],
     "language": "python",
     "metadata": {},
     "outputs": [],
     "prompt_number": 167
    },
    {
     "cell_type": "code",
     "collapsed": false,
     "input": [
      "# cr\u00e9ation des dimensions du fichier (2d xy , temps) avec un grille de 20 colonnes * 20 lignes )\n",
      "# def createDimension(\tself, dimname, size=None)\n",
      "x = dataset.createDimension('x',20)\n",
      "y = dataset.createDimension('y',20)\n",
      "time = dataset.createDimension('time', None)"
     ],
     "language": "python",
     "metadata": {},
     "outputs": [],
     "prompt_number": 168
    },
    {
     "cell_type": "code",
     "collapsed": false,
     "input": [
      "#Creating a variable\n",
      "import numpy as np\n",
      "\n",
      "# Create coordinate variables for 3-dimensions\n",
      "times = dataset.createVariable('time', np.float64, ('time',))\n",
      "x_coords = dataset.createVariable('x', np.float32,\n",
      "('x',))\n",
      "y_coords = dataset.createVariable('y', np.float32,\n",
      "('y',))\n",
      "# Create the actual 3-d variable (temperature)\n",
      "temps = dataset.createVariable('temp', np.float32,\n",
      "('time','x','y'))"
     ],
     "language": "python",
     "metadata": {},
     "outputs": [],
     "prompt_number": 169
    },
    {
     "cell_type": "code",
     "collapsed": false,
     "input": [
      "x_coords"
     ],
     "language": "python",
     "metadata": {},
     "outputs": [
      {
       "metadata": {},
       "output_type": "pyout",
       "prompt_number": 170,
       "text": [
        "<type 'netCDF4._netCDF4.Variable'>\n",
        "float32 x(x)\n",
        "unlimited dimensions: \n",
        "current shape = (20,)\n",
        "filling on, default _FillValue of 9.96920996839e+36 used"
       ]
      }
     ],
     "prompt_number": 170
    },
    {
     "cell_type": "code",
     "collapsed": false,
     "input": [
      "import time\n",
      "# Global Attributes\n",
      "dataset.description = 'bogus example script'\n",
      "dataset.history = 'Created ' + time.ctime(time.time())\n",
      "dataset.source = 'netCDF4 python module tutorial'"
     ],
     "language": "python",
     "metadata": {},
     "outputs": [],
     "prompt_number": 171
    },
    {
     "cell_type": "code",
     "collapsed": false,
     "input": [
      "# Variable Attributes\n",
      "x_coords.units = 'abscisses metres lambert 93 EPSG:2154'\n",
      "y_coords.units = 'ordonn\u00e9es metres lambert 93 EPSG:2154'\n",
      "temps.units = 'degres celsius'\n",
      "times.units = 'hours since 0001-01-01 00:00:00'\n",
      "times.calendar = 'gregorian'"
     ],
     "language": "python",
     "metadata": {},
     "outputs": [],
     "prompt_number": 172
    },
    {
     "cell_type": "code",
     "collapsed": false,
     "input": [
      "# populate data and dimensions (python dictionaries)"
     ],
     "language": "python",
     "metadata": {},
     "outputs": [],
     "prompt_number": 173
    },
    {
     "cell_type": "code",
     "collapsed": false,
     "input": [
      "xs = np.arange(200000,400000,10000)"
     ],
     "language": "python",
     "metadata": {},
     "outputs": [],
     "prompt_number": 174
    },
    {
     "cell_type": "code",
     "collapsed": false,
     "input": [
      "xs"
     ],
     "language": "python",
     "metadata": {},
     "outputs": [
      {
       "metadata": {},
       "output_type": "pyout",
       "prompt_number": 175,
       "text": [
        "array([200000, 210000, 220000, 230000, 240000, 250000, 260000, 270000,\n",
        "       280000, 290000, 300000, 310000, 320000, 330000, 340000, 350000,\n",
        "       360000, 370000, 380000, 390000])"
       ]
      }
     ],
     "prompt_number": 175
    },
    {
     "cell_type": "code",
     "collapsed": false,
     "input": [
      "ys = np.arange(1400000,1600000,10000)"
     ],
     "language": "python",
     "metadata": {},
     "outputs": [],
     "prompt_number": 176
    },
    {
     "cell_type": "code",
     "collapsed": false,
     "input": [
      "ys"
     ],
     "language": "python",
     "metadata": {},
     "outputs": [
      {
       "metadata": {},
       "output_type": "pyout",
       "prompt_number": 177,
       "text": [
        "array([1400000, 1410000, 1420000, 1430000, 1440000, 1450000, 1460000,\n",
        "       1470000, 1480000, 1490000, 1500000, 1510000, 1520000, 1530000,\n",
        "       1540000, 1550000, 1560000, 1570000, 1580000, 1590000])"
       ]
      }
     ],
     "prompt_number": 177
    },
    {
     "cell_type": "code",
     "collapsed": false,
     "input": [
      "x_coords[:] = xs"
     ],
     "language": "python",
     "metadata": {},
     "outputs": [],
     "prompt_number": 178
    },
    {
     "cell_type": "code",
     "collapsed": false,
     "input": [
      "y_coords[:] = ys"
     ],
     "language": "python",
     "metadata": {},
     "outputs": [],
     "prompt_number": 179
    },
    {
     "cell_type": "code",
     "collapsed": false,
     "input": [
      "from numpy.random import uniform"
     ],
     "language": "python",
     "metadata": {},
     "outputs": [],
     "prompt_number": 180
    },
    {
     "cell_type": "code",
     "collapsed": false,
     "input": [
      "#uniform g\u00e9n\u00e9re des vecteurs selon une distribution uniforme \n",
      "# une valeur entre 5 et 30:\n",
      "uniform(5, 30, None) \n",
      "# un vecteur 2d entre 5 et 30:\n",
      "uniform(5, 30, 2) \n",
      "\n",
      "# taille de x et y \n",
      "nxs = len(dataset.dimensions['x'])\n",
      "nys = len(dataset.dimensions['y'])\n",
      "\n",
      "print nxs\n",
      "print nys"
     ],
     "language": "python",
     "metadata": {},
     "outputs": [
      {
       "output_type": "stream",
       "stream": "stdout",
       "text": [
        "20\n",
        "20\n"
       ]
      }
     ],
     "prompt_number": 181
    },
    {
     "cell_type": "code",
     "collapsed": false,
     "input": [
      "nxs = len(dataset.dimensions['x'])\n",
      "nys = len(dataset.dimensions['y'])\n",
      "\n",
      "temps[0:5,:,:] = uniform(5, 30, size=(5,nxs,nys))\n",
      "\n",
      "print 'temp shape after adding data = ', temps.shape"
     ],
     "language": "python",
     "metadata": {},
     "outputs": [
      {
       "output_type": "stream",
       "stream": "stdout",
       "text": [
        "temp shape after adding data =  (5, 20, 20)\n"
       ]
      }
     ],
     "prompt_number": 182
    },
    {
     "cell_type": "code",
     "collapsed": false,
     "input": [
      "size=(5,10,nxs,nys)\n",
      "print size"
     ],
     "language": "python",
     "metadata": {},
     "outputs": [
      {
       "output_type": "stream",
       "stream": "stdout",
       "text": [
        "(5, 10, 20, 20)\n"
       ]
      }
     ],
     "prompt_number": 183
    },
    {
     "cell_type": "code",
     "collapsed": false,
     "input": [
      "print 'x: \\n' ,  x_coords[:]\n",
      "print 'y: \\n', y_coords[:]\n",
      "print 'times: \\n ', times [:] \n",
      "print 'temps: \\n ', temps [:]"
     ],
     "language": "python",
     "metadata": {},
     "outputs": [
      {
       "output_type": "stream",
       "stream": "stdout",
       "text": [
        "x: \n",
        "[ 200000.  210000.  220000.  230000.  240000.  250000.  260000.  270000.\n",
        "  280000.  290000.  300000.  310000.  320000.  330000.  340000.  350000.\n",
        "  360000.  370000.  380000.  390000.]\n",
        "y: \n",
        "[ 1400000.  1410000.  1420000.  1430000.  1440000.  1450000.  1460000.\n",
        "  1470000.  1480000.  1490000.  1500000.  1510000.  1520000.  1530000.\n",
        "  1540000.  1550000.  1560000.  1570000.  1580000.  1590000.]\n",
        "times: \n",
        "  [-- -- -- -- --]\n",
        "temps: \n",
        "  [[[ 28.90619469  20.79629898  10.1860733  ...,  28.17273903   6.69890213\n",
        "    19.36645889]\n",
        "  [ 24.27619171  17.10931587  27.38371849 ...,  24.54397011   9.28949547\n",
        "    20.5395031 ]\n",
        "  [ 28.68569565  10.36891651  19.70893669 ...,   6.90585136  15.87651443\n",
        "     6.13357449]\n",
        "  ..., \n",
        "  [ 25.6291008    5.68977594   9.05642891 ...,  23.21715546   8.29811478\n",
        "    29.51873779]\n",
        "  [ 22.77666092  28.28021431   7.52511406 ...,  23.05626678   5.96982384\n",
        "    22.00339127]\n",
        "  [ 13.86585426  22.47722626  27.83533859 ...,  28.2784481   15.26462746\n",
        "    24.43722534]]\n",
        "\n",
        " [[ 29.90379333   7.46161079  19.09448433 ...,  21.70346642  16.53108215\n",
        "    17.61893463]\n",
        "  [ 10.71792793  11.2473011   29.49172974 ...,  14.71485901  20.66711235\n",
        "    14.3864603 ]\n",
        "  [ 22.88147354  17.66060448   8.83907223 ...,  11.92975044  17.29682541\n",
        "    19.29754448]\n",
        "  ..., \n",
        "  [ 18.04766846   7.32850504   8.4073019  ...,  24.85227776  28.93029022\n",
        "     9.08691978]\n",
        "  [ 28.98220825  16.45135689  24.5200367  ...,  23.51500511  21.63022041\n",
        "    28.03545952]\n",
        "  [  5.60294485   9.02126217  24.71998978 ...,   8.67665291  20.81629753\n",
        "    17.92970085]]\n",
        "\n",
        " [[ 14.98934364   7.44452     15.25942707 ...,  24.89916801  15.62099266\n",
        "    19.46689224]\n",
        "  [ 10.59908867   9.80536461  24.05953217 ...,  18.66761208  14.14582348\n",
        "    26.07398224]\n",
        "  [  9.13467693  11.91124535  23.79821587 ...,  28.60303116  24.09366798\n",
        "    29.9365921 ]\n",
        "  ..., \n",
        "  [ 13.81844139  21.14775658  13.26550865 ...,  23.13476753  27.26693153\n",
        "    26.68629837]\n",
        "  [ 24.62018585   7.02640867  19.46457481 ...,   5.57332325  24.14372063\n",
        "    24.82013893]\n",
        "  [ 17.03999329  26.68929482   8.34150696 ...,  27.20001984  16.71782303\n",
        "    12.80640697]]\n",
        "\n",
        " [[ 18.88637924  22.82647705   7.57748604 ...,   6.84379864  17.63976288\n",
        "    19.91264153]\n",
        "  [ 22.40168953  10.49400616   9.52346992 ...,  10.57081699  19.75102043\n",
        "    10.87389755]\n",
        "  [ 28.21200371  13.59151554  20.01626587 ...,   8.65189266  28.65328407\n",
        "    21.3258419 ]\n",
        "  ..., \n",
        "  [ 24.81475449  19.12500572  27.93997002 ...,   5.10961914  17.33558464\n",
        "    18.4601841 ]\n",
        "  [ 10.32475948  19.07320404  15.7127018  ...,  28.79346848  15.24534702\n",
        "     9.45979118]\n",
        "  [ 17.9251461   27.26257133  26.09650421 ...,  15.9117775   20.88341331\n",
        "    19.47421074]]\n",
        "\n",
        " [[ 26.03150368  17.73402786  16.63643837 ...,   7.56380033  14.0097332\n",
        "    28.70348358]\n",
        "  [ 10.297472    25.94429398  29.83082581 ...,  29.96925163   6.08697557\n",
        "    26.57109833]\n",
        "  [ 25.70059967   5.31559467   8.66773033 ...,  28.95118904   8.24923134\n",
        "    12.76823902]\n",
        "  ..., \n",
        "  [ 17.05050468  18.93400383  11.3758297  ...,  28.11911964  19.28193283\n",
        "    13.0438242 ]\n",
        "  [  6.7569685   14.81470108   8.82657242 ...,  14.45964336  16.67755318\n",
        "    14.66766834]\n",
        "  [ 17.04214287  27.00928116   9.52693367 ...,  19.1395092   17.97647285\n",
        "    10.77669334]]]\n"
       ]
      }
     ],
     "prompt_number": 184
    },
    {
     "cell_type": "heading",
     "level": 1,
     "metadata": {},
     "source": [
      "Gestion des dates"
     ]
    },
    {
     "cell_type": "code",
     "collapsed": false,
     "input": [
      " # Fill in times.\n",
      "from datetime import datetime, timedelta\n",
      "from netCDF4 import num2date, date2num\n",
      "dates = []"
     ],
     "language": "python",
     "metadata": {},
     "outputs": [],
     "prompt_number": 185
    },
    {
     "cell_type": "code",
     "collapsed": false,
     "input": [
      "for n in range(temps.shape[0]):\n",
      "    dates.append(datetime(2001, 3, 1) + n * timedelta(hours=12))\n",
      "times[:] = date2num(dates, units = times.units, calendar = times.calendar)\n",
      "print 'time values (in units %s): ' % times.units +  '\\n', times[:]"
     ],
     "language": "python",
     "metadata": {},
     "outputs": [
      {
       "output_type": "stream",
       "stream": "stdout",
       "text": [
        "time values (in units hours since 0001-01-01 00:00:00): \n",
        "[ 17533104.  17533116.  17533128.  17533140.  17533152.]\n"
       ]
      }
     ],
     "prompt_number": 186
    },
    {
     "cell_type": "code",
     "collapsed": false,
     "input": [
      "dates = num2date(times[:], units=times.units, calendar=times.calendar)"
     ],
     "language": "python",
     "metadata": {},
     "outputs": [],
     "prompt_number": 187
    },
    {
     "cell_type": "code",
     "collapsed": false,
     "input": [
      "print 'dates corresponding to time values:\\n', dates"
     ],
     "language": "python",
     "metadata": {},
     "outputs": [
      {
       "output_type": "stream",
       "stream": "stdout",
       "text": [
        "dates corresponding to time values:\n",
        "[datetime.datetime(2001, 3, 1, 0, 0) datetime.datetime(2001, 3, 1, 12, 0)\n",
        " datetime.datetime(2001, 3, 2, 0, 0) datetime.datetime(2001, 3, 2, 12, 0)\n",
        " datetime.datetime(2001, 3, 3, 0, 0)]\n"
       ]
      }
     ],
     "prompt_number": 188
    },
    {
     "cell_type": "code",
     "collapsed": false,
     "input": [
      "print 'x: \\n' ,  x_coords[:]\n",
      "print 'y: \\n', y_coords[:]\n",
      "print 'times: \\n ', times [:] \n",
      "print 'temps: \\n ', temps [:]"
     ],
     "language": "python",
     "metadata": {},
     "outputs": [
      {
       "output_type": "stream",
       "stream": "stdout",
       "text": [
        "x: \n",
        "[ 200000.  210000.  220000.  230000.  240000.  250000.  260000.  270000.\n",
        "  280000.  290000.  300000.  310000.  320000.  330000.  340000.  350000.\n",
        "  360000.  370000.  380000.  390000.]\n",
        "y: \n",
        "[ 1400000.  1410000.  1420000.  1430000.  1440000.  1450000.  1460000.\n",
        "  1470000.  1480000.  1490000.  1500000.  1510000.  1520000.  1530000.\n",
        "  1540000.  1550000.  1560000.  1570000.  1580000.  1590000.]\n",
        "times: \n",
        "  [ 17533104.  17533116.  17533128.  17533140.  17533152.]\n",
        "temps: \n",
        "  [[[ 28.90619469  20.79629898  10.1860733  ...,  28.17273903   6.69890213\n",
        "    19.36645889]\n",
        "  [ 24.27619171  17.10931587  27.38371849 ...,  24.54397011   9.28949547\n",
        "    20.5395031 ]\n",
        "  [ 28.68569565  10.36891651  19.70893669 ...,   6.90585136  15.87651443\n",
        "     6.13357449]\n",
        "  ..., \n",
        "  [ 25.6291008    5.68977594   9.05642891 ...,  23.21715546   8.29811478\n",
        "    29.51873779]\n",
        "  [ 22.77666092  28.28021431   7.52511406 ...,  23.05626678   5.96982384\n",
        "    22.00339127]\n",
        "  [ 13.86585426  22.47722626  27.83533859 ...,  28.2784481   15.26462746\n",
        "    24.43722534]]\n",
        "\n",
        " [[ 29.90379333   7.46161079  19.09448433 ...,  21.70346642  16.53108215\n",
        "    17.61893463]\n",
        "  [ 10.71792793  11.2473011   29.49172974 ...,  14.71485901  20.66711235\n",
        "    14.3864603 ]\n",
        "  [ 22.88147354  17.66060448   8.83907223 ...,  11.92975044  17.29682541\n",
        "    19.29754448]\n",
        "  ..., \n",
        "  [ 18.04766846   7.32850504   8.4073019  ...,  24.85227776  28.93029022\n",
        "     9.08691978]\n",
        "  [ 28.98220825  16.45135689  24.5200367  ...,  23.51500511  21.63022041\n",
        "    28.03545952]\n",
        "  [  5.60294485   9.02126217  24.71998978 ...,   8.67665291  20.81629753\n",
        "    17.92970085]]\n",
        "\n",
        " [[ 14.98934364   7.44452     15.25942707 ...,  24.89916801  15.62099266\n",
        "    19.46689224]\n",
        "  [ 10.59908867   9.80536461  24.05953217 ...,  18.66761208  14.14582348\n",
        "    26.07398224]\n",
        "  [  9.13467693  11.91124535  23.79821587 ...,  28.60303116  24.09366798\n",
        "    29.9365921 ]\n",
        "  ..., \n",
        "  [ 13.81844139  21.14775658  13.26550865 ...,  23.13476753  27.26693153\n",
        "    26.68629837]\n",
        "  [ 24.62018585   7.02640867  19.46457481 ...,   5.57332325  24.14372063\n",
        "    24.82013893]\n",
        "  [ 17.03999329  26.68929482   8.34150696 ...,  27.20001984  16.71782303\n",
        "    12.80640697]]\n",
        "\n",
        " [[ 18.88637924  22.82647705   7.57748604 ...,   6.84379864  17.63976288\n",
        "    19.91264153]\n",
        "  [ 22.40168953  10.49400616   9.52346992 ...,  10.57081699  19.75102043\n",
        "    10.87389755]\n",
        "  [ 28.21200371  13.59151554  20.01626587 ...,   8.65189266  28.65328407\n",
        "    21.3258419 ]\n",
        "  ..., \n",
        "  [ 24.81475449  19.12500572  27.93997002 ...,   5.10961914  17.33558464\n",
        "    18.4601841 ]\n",
        "  [ 10.32475948  19.07320404  15.7127018  ...,  28.79346848  15.24534702\n",
        "     9.45979118]\n",
        "  [ 17.9251461   27.26257133  26.09650421 ...,  15.9117775   20.88341331\n",
        "    19.47421074]]\n",
        "\n",
        " [[ 26.03150368  17.73402786  16.63643837 ...,   7.56380033  14.0097332\n",
        "    28.70348358]\n",
        "  [ 10.297472    25.94429398  29.83082581 ...,  29.96925163   6.08697557\n",
        "    26.57109833]\n",
        "  [ 25.70059967   5.31559467   8.66773033 ...,  28.95118904   8.24923134\n",
        "    12.76823902]\n",
        "  ..., \n",
        "  [ 17.05050468  18.93400383  11.3758297  ...,  28.11911964  19.28193283\n",
        "    13.0438242 ]\n",
        "  [  6.7569685   14.81470108   8.82657242 ...,  14.45964336  16.67755318\n",
        "    14.66766834]\n",
        "  [ 17.04214287  27.00928116   9.52693367 ...,  19.1395092   17.97647285\n",
        "    10.77669334]]]\n"
       ]
      }
     ],
     "prompt_number": 189
    },
    {
     "cell_type": "heading",
     "level": 1,
     "metadata": {},
     "source": [
      "Fermeture du fichier"
     ]
    },
    {
     "cell_type": "code",
     "collapsed": false,
     "input": [
      "# on ferme le fichier pour \u00e9criture\n",
      "dataset.close()"
     ],
     "language": "python",
     "metadata": {},
     "outputs": [],
     "prompt_number": 190
    },
    {
     "cell_type": "code",
     "collapsed": false,
     "input": [],
     "language": "python",
     "metadata": {},
     "outputs": []
    }
   ],
   "metadata": {}
  }
 ]
}