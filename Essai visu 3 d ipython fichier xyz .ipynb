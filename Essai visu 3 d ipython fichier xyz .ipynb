{
 "cells": [
  {
   "cell_type": "markdown",
   "metadata": {},
   "source": [
    "Mon titre"
   ]
  },
  {
   "cell_type": "code",
   "execution_count": 68,
   "metadata": {
    "collapsed": true
   },
   "outputs": [],
   "source": [
    "import numpy as np\n",
    "import pandas as pd\n",
    "import matplotlib.pyplot as plt\n",
    "import psycopg2\n",
    "#import sys\n",
    "#import pprint\n",
    "#import pylab\n",
    "from mpl_toolkits.mplot3d import Axes3D\n",
    "#import random"
   ]
  },
  {
   "cell_type": "code",
   "execution_count": 69,
   "metadata": {
    "collapsed": false
   },
   "outputs": [
    {
     "data": {
      "text/html": [
       "<script>requirejs.config({paths: { 'plotly': ['https://cdn.plot.ly/plotly-latest.min']},});if(!window.Plotly) {{require(['plotly'],function(plotly) {window.Plotly=plotly;});}}</script>"
      ],
      "text/plain": [
       "<IPython.core.display.HTML object>"
      ]
     },
     "metadata": {},
     "output_type": "display_data"
    }
   ],
   "source": [
    "from plotly import __version__\n",
    "from plotly.offline import download_plotlyjs, init_notebook_mode, plot, iplot\n",
    "init_notebook_mode(connected=True) # run at the start of every ipython notebook to use plotly.offline\n",
    "                     # this injects the plotly.js source files into the notebook"
   ]
  },
  {
   "cell_type": "code",
   "execution_count": 70,
   "metadata": {
    "collapsed": true
   },
   "outputs": [],
   "source": [
    "conn_string = \"host='pgslave' port=5433 dbname='refgeotest' user='pgadmin' password='pgadmin'\""
   ]
  },
  {
   "cell_type": "code",
   "execution_count": 71,
   "metadata": {
    "collapsed": false
   },
   "outputs": [
    {
     "name": "stdout",
     "output_type": "stream",
     "text": [
      "Connected!\n",
      "\n"
     ]
    }
   ],
   "source": [
    "conn = psycopg2.connect(conn_string)\n",
    "cursor = conn.cursor()\n",
    "print \"Connected!\\n\""
   ]
  },
  {
   "cell_type": "code",
   "execution_count": 72,
   "metadata": {
    "collapsed": true
   },
   "outputs": [],
   "source": [
    "id_releve  = 'L97_2011'"
   ]
  },
  {
   "cell_type": "code",
   "execution_count": 73,
   "metadata": {
    "collapsed": true
   },
   "outputs": [],
   "source": [
    "z_factor = 3"
   ]
  },
  {
   "cell_type": "code",
   "execution_count": 74,
   "metadata": {
    "collapsed": true
   },
   "outputs": [],
   "source": [
    "point_size = 1"
   ]
  },
  {
   "cell_type": "code",
   "execution_count": 75,
   "metadata": {
    "collapsed": true
   },
   "outputs": [],
   "source": [
    "max_points = 120000"
   ]
  },
  {
   "cell_type": "code",
   "execution_count": 76,
   "metadata": {
    "collapsed": false
   },
   "outputs": [],
   "source": [
    "sql = 'select distinct id_releve, st_x(geoml93) x, st_y(geoml93) as y, (-profondeur::real*'+ str(z_factor) +'::real)::real as p  from bathy_profondeurs where  id_releve = \\''+ id_releve +'\\' limit '+ str(max_points) +' ;'"
   ]
  },
  {
   "cell_type": "code",
   "execution_count": 77,
   "metadata": {
    "collapsed": false
   },
   "outputs": [
    {
     "data": {
      "text/plain": [
       "\"select distinct id_releve, st_x(geoml93) x, st_y(geoml93) as y, (-profondeur::real*3::real)::real as p  from bathy_profondeurs where  id_releve = 'L97_2011' limit 120000 ;\""
      ]
     },
     "execution_count": 77,
     "metadata": {},
     "output_type": "execute_result"
    }
   ],
   "source": [
    "sql"
   ]
  },
  {
   "cell_type": "code",
   "execution_count": 78,
   "metadata": {
    "collapsed": false
   },
   "outputs": [],
   "source": [
    "#old way :\n",
    "#cursor.execute(sql)\n",
    "#rows = cursor.fetchall()\n",
    "#df = pd.DataFrame( [[ij for ij in i] for i in rows] )\n",
    "#df.rename(columns={0: 'id_releve', 1: 'x', 2: 'y', 3: 'prof'}, inplace=True);\n"
   ]
  },
  {
   "cell_type": "code",
   "execution_count": 79,
   "metadata": {
    "collapsed": false
   },
   "outputs": [],
   "source": [
    "df = pd.read_sql(sql, conn)"
   ]
  },
  {
   "cell_type": "code",
   "execution_count": 80,
   "metadata": {
    "collapsed": false
   },
   "outputs": [
    {
     "data": {
      "text/html": [
       "<div>\n",
       "<table border=\"1\" class=\"dataframe\">\n",
       "  <thead>\n",
       "    <tr style=\"text-align: right;\">\n",
       "      <th></th>\n",
       "      <th>id_releve</th>\n",
       "      <th>x</th>\n",
       "      <th>y</th>\n",
       "      <th>p</th>\n",
       "    </tr>\n",
       "  </thead>\n",
       "  <tbody>\n",
       "    <tr>\n",
       "      <th>0</th>\n",
       "      <td>L97_2011</td>\n",
       "      <td>644963.728244</td>\n",
       "      <td>6.476987e+06</td>\n",
       "      <td>-40.29</td>\n",
       "    </tr>\n",
       "    <tr>\n",
       "      <th>1</th>\n",
       "      <td>L97_2011</td>\n",
       "      <td>644775.743094</td>\n",
       "      <td>6.478396e+06</td>\n",
       "      <td>-6.09</td>\n",
       "    </tr>\n",
       "    <tr>\n",
       "      <th>2</th>\n",
       "      <td>L97_2011</td>\n",
       "      <td>644666.483252</td>\n",
       "      <td>6.476737e+06</td>\n",
       "      <td>-14.25</td>\n",
       "    </tr>\n",
       "    <tr>\n",
       "      <th>3</th>\n",
       "      <td>L97_2011</td>\n",
       "      <td>644760.737287</td>\n",
       "      <td>6.478410e+06</td>\n",
       "      <td>-8.76</td>\n",
       "    </tr>\n",
       "    <tr>\n",
       "      <th>4</th>\n",
       "      <td>L97_2011</td>\n",
       "      <td>644917.314176</td>\n",
       "      <td>6.475949e+06</td>\n",
       "      <td>-6.09</td>\n",
       "    </tr>\n",
       "  </tbody>\n",
       "</table>\n",
       "</div>"
      ],
      "text/plain": [
       "  id_releve              x             y      p\n",
       "0  L97_2011  644963.728244  6.476987e+06 -40.29\n",
       "1  L97_2011  644775.743094  6.478396e+06  -6.09\n",
       "2  L97_2011  644666.483252  6.476737e+06 -14.25\n",
       "3  L97_2011  644760.737287  6.478410e+06  -8.76\n",
       "4  L97_2011  644917.314176  6.475949e+06  -6.09"
      ]
     },
     "execution_count": 80,
     "metadata": {},
     "output_type": "execute_result"
    }
   ],
   "source": [
    "df.head()"
   ]
  },
  {
   "cell_type": "code",
   "execution_count": 81,
   "metadata": {
    "collapsed": false
   },
   "outputs": [],
   "source": [
    "n_points = df['p'].count()"
   ]
  },
  {
   "cell_type": "code",
   "execution_count": 82,
   "metadata": {
    "collapsed": false
   },
   "outputs": [
    {
     "data": {
      "text/plain": [
       "13953"
      ]
     },
     "execution_count": 82,
     "metadata": {},
     "output_type": "execute_result"
    }
   ],
   "source": [
    "n_points"
   ]
  },
  {
   "cell_type": "code",
   "execution_count": 83,
   "metadata": {
    "collapsed": false
   },
   "outputs": [],
   "source": [
    "import plotly.plotly as py\n",
    "from plotly.graph_objs import *\n",
    "py.sign_in('regis.haubourg', 'qyh9ssvz4u')\n",
    "\n",
    "# import pour sortir en fichier html \n",
    "from plotly.offline.offline import _plot_html\n"
   ]
  },
  {
   "cell_type": "code",
   "execution_count": 84,
   "metadata": {
    "collapsed": true
   },
   "outputs": [],
   "source": [
    "x=df['x']\n",
    "y=df['y']\n",
    "z=df['p'] * z_factor"
   ]
  },
  {
   "cell_type": "code",
   "execution_count": 85,
   "metadata": {
    "collapsed": false
   },
   "outputs": [
    {
     "name": "stderr",
     "output_type": "stream",
     "text": [
      "C:\\OSGEO4~1\\apps\\Python27\\lib\\site-packages\\requests\\packages\\urllib3\\util\\ssl_.py:122: InsecurePlatformWarning:\n",
      "\n",
      "A true SSLContext object is not available. This prevents urllib3 from configuring SSL appropriately and may cause certain SSL connections to fail. You can upgrade to a newer version of Python to solve this. For more information, see https://urllib3.readthedocs.org/en/latest/security.html#insecureplatformwarning.\n",
      "\n"
     ]
    },
    {
     "data": {
      "text/html": [
       "<iframe id=\"igraph\" scrolling=\"no\" style=\"border:none;\" seamless=\"seamless\" src=\"https://plot.ly/~regis.haubourg/100.embed\" height=\"525px\" width=\"100%\"></iframe>"
      ],
      "text/plain": [
       "<plotly.tools.PlotlyDisplay object>"
      ]
     },
     "execution_count": 85,
     "metadata": {},
     "output_type": "execute_result"
    }
   ],
   "source": [
    "\n",
    "\n",
    "trace1 = Scatter3d(\n",
    "     x=x,\n",
    "     y=y,\n",
    "     z=z,\n",
    "     mode='markers',\n",
    "     marker=dict(\n",
    "            size=point_size,\n",
    "            symbol='circle',\n",
    "            color=z,                # set color to an array/list of desired values\n",
    "            colorscale='Jet',   # choose a colorscale\n",
    "            opacity=0.9  ),\n",
    "    stream=dict(maxpoints=1000)\n",
    ")    \n",
    "layout = Layout(        \n",
    "     title = 'Bathymetrie '+ id_releve,\n",
    "     scene=Scene(\n",
    "        xaxis=XAxis(title='x'),\n",
    "        yaxis=YAxis(title='y'),\n",
    "        zaxis=ZAxis(title='z prof'),\n",
    "        aspectmode = \"data\"\n",
    "    )\n",
    ")\n",
    "data = Data([trace1])\n",
    "fig = Figure(data=data, layout=layout)\n",
    "py.iplot(fig, filename='bathymetrie '+ id_releve)"
   ]
  },
  {
   "cell_type": "code",
   "execution_count": 95,
   "metadata": {
    "collapsed": false
   },
   "outputs": [
    {
     "name": "stderr",
     "output_type": "stream",
     "text": [
      "C:\\OSGEO4~1\\apps\\Python27\\lib\\site-packages\\plotly\\offline\\offline.py:385: UserWarning:\n",
      "\n",
      "Your filename `bathymetrie_L97_2011` didn't end with .html. Adding .html to the end of your file.\n",
      "\n"
     ]
    },
    {
     "data": {
      "text/plain": [
       "'file://F:\\\\Outils\\\\QGISDEV\\\\SCRIPTS_PYTHON\\\\bathymetrie_L97_2011.html'"
      ]
     },
     "execution_count": 95,
     "metadata": {},
     "output_type": "execute_result"
    }
   ],
   "source": [
    "plot( { 'data' : [\n",
    "Scatter3d(\n",
    "     x=x,\n",
    "     y=y,\n",
    "     z=z,\n",
    "     mode='markers',\n",
    "     marker=dict(\n",
    "            size=point_size,\n",
    "            symbol='circle',\n",
    "            color=z,                # set color to an array/list of desired values\n",
    "            colorscale='Jet',   # choose a colorscale\n",
    "            opacity=0.9  ),\n",
    "    stream=dict(maxpoints=1000)\n",
    ")    ], \n",
    "       \n",
    "'layout' : Layout(        \n",
    "     title = 'Bathymetrie '+ id_releve,\n",
    "     scene=Scene(\n",
    "        xaxis=XAxis(title='x'),\n",
    "        yaxis=YAxis(title='y'),\n",
    "        zaxis=ZAxis(title='z prof'),\n",
    "        aspectmode = \"data\"\n",
    "    ))\n",
    "}\n",
    "    , filename='bathymetrie_'+ id_releve\n",
    "         )"
   ]
  },
  {
   "cell_type": "code",
   "execution_count": null,
   "metadata": {
    "collapsed": false
   },
   "outputs": [],
   "source": [
    "cursor.close()\n",
    "conn.close()"
   ]
  }
 ],
 "metadata": {
  "kernelspec": {
   "display_name": "Python 2",
   "language": "python",
   "name": "python2"
  },
  "language_info": {
   "codemirror_mode": {
    "name": "ipython",
    "version": 2
   },
   "file_extension": ".py",
   "mimetype": "text/x-python",
   "name": "python",
   "nbconvert_exporter": "python",
   "pygments_lexer": "ipython2",
   "version": "2.7.5"
  }
 },
 "nbformat": 4,
 "nbformat_minor": 0
}
